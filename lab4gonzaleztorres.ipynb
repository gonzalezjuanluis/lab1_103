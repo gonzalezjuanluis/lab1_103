{
  "nbformat": 4,
  "nbformat_minor": 0,
  "metadata": {
    "colab": {
      "provenance": [],
      "mount_file_id": "18T967mp-H2g41dzWbtCBOxGxackwCbWT",
      "authorship_tag": "ABX9TyNmPopqlBPI+7vS1W3/2DOQ",
      "include_colab_link": true
    },
    "kernelspec": {
      "name": "python3",
      "display_name": "Python 3"
    },
    "language_info": {
      "name": "python"
    }
  },
  "cells": [
    {
      "cell_type": "markdown",
      "metadata": {
        "id": "view-in-github",
        "colab_type": "text"
      },
      "source": [
        "<a href=\"https://colab.research.google.com/github/gonzalezjuanluis/lab1_103/blob/main/lab4gonzaleztorres.ipynb\" target=\"_parent\"><img src=\"https://colab.research.google.com/assets/colab-badge.svg\" alt=\"Open In Colab\"/></a>"
      ]
    },
    {
      "cell_type": "code",
      "execution_count": null,
      "metadata": {
        "id": "O89lLy4cGJKM"
      },
      "outputs": [],
      "source": []
    },
    {
      "cell_type": "code",
      "source": [
        "from google.colab import drive\n",
        "drive.mount('/content/drive')"
      ],
      "metadata": {
        "id": "Vst5Zdc6Gi-0"
      },
      "execution_count": null,
      "outputs": []
    },
    {
      "cell_type": "code",
      "source": [
        "from inspect import stack\n",
        "import pandas as pd\n",
        "import matplotlib.pyplot as plt\n",
        "import json\n",
        "\n",
        "path = \"/content/drive/MyDrive/conjunto de datos /example.txt\"\n",
        "\n",
        "records = [json.loads(line) for line in open(path)]\n",
        "\n",
        "#open(path).readline()\n",
        "#records[0]\n",
        "\n",
        "records[0]['tz']\n",
        "\n",
        "print (records[0]['tz'])\n",
        "time_zones = [rec['tz'] for rec in records if 'tz' in rec]\n",
        "time_zones[:10]\n",
        "\n",
        "from collections import defaultdict\n",
        "\n",
        "def get_counts(sequence):\n",
        "  counts = {}\n",
        "  for x in sequence:\n",
        "    if x in counts:\n",
        "      counts[x] += 1\n",
        "    else:\n",
        "      counts[x] = 1\n",
        "      return counts\n",
        "\n",
        "counts = get_counts(time_zones)\n",
        "\n",
        "counts['America/New_York']\n",
        "len(time_zones)\n",
        "\n",
        "def top_counts(count_dict, n=10):\n",
        "  value_key_pairs = [(count, tz) for tz, count in count_dict.items()]\n",
        "  value_key_pairs.sort()\n",
        "  return value_key_pairs[-n:]\n",
        "\n",
        "  top_counts(counts)\n",
        "\n",
        "  from collections import Counter\n",
        "  counts = Counter(time_zones)\n",
        "  counts.most_common(10)\n",
        "\n",
        "from pandas import DataFrame,Series\n",
        "frame = DataFrame(records)\n",
        "frame\n",
        "\n",
        "frame['tz'][:10]\n",
        "\n",
        "tz_counts = frame['tz'].value_counts()\n",
        "tz_counts[:10]\n",
        "\n",
        "clean_tz = frame['tz'].fillna('Missing')\n",
        "clean_tz[\"clean_tz ==\"] = 'Unknow'\n",
        "tz_counts = clean_tz.value_counts()\n",
        "tz_counts[:10]\n",
        "\n",
        "tz_counts[:10].plot(kind='barh',rot=0)\n",
        "frame['a'][1]\n",
        "frame['a'][50]\n",
        "frame['a'][51]\n",
        "\n",
        "results = Series([x.split()[0] for x in frame.a.dropna()])\n",
        "results[:5]\n",
        "results.value_counts()[:8]\n",
        "\n",
        "cframe = frame[frame.a.noynull()]\n",
        "operating_system = np.where(cframe['a'].str.contains('Windows'),'Winsows','Not Windows')\n",
        "operating_system[:5]\n",
        "\n",
        "by_tz_os = cframe.groupby(['tz', operating_system])\n",
        "\n",
        "agg_counts = by_tz_os.size().unstack().fillna(0)\n",
        "agg_counts[:10]\n",
        "\n",
        "indexer = agg_counts.sum(1).argsort()\n",
        "indexer[:10]\n",
        "\n",
        "count_subset = agg_counts.take(indexer)[-10:]\n",
        "count_subset\n",
        "\n",
        "count_subset.plot(kind='barh', stacked = true)\n",
        "\n",
        "normed_subset = count_subset.div(count_subset.sum(1),axis=0)\n",
        "normed_subsetplot(kind = 'barh', stacked=true)\n"
      ],
      "metadata": {
        "colab": {
          "base_uri": "https://localhost:8080/",
          "height": 245
        },
        "id": "0csFCOlpGr1D",
        "outputId": "c9d87798-014d-4b06-90bd-ab6155af96e1"
      },
      "execution_count": null,
      "outputs": [
        {
          "output_type": "error",
          "ename": "FileNotFoundError",
          "evalue": "ignored",
          "traceback": [
            "\u001b[0;31m---------------------------------------------------------------------------\u001b[0m",
            "\u001b[0;31mFileNotFoundError\u001b[0m                         Traceback (most recent call last)",
            "\u001b[0;32m<ipython-input-2-c0ce2293e080>\u001b[0m in \u001b[0;36m<cell line: 8>\u001b[0;34m()\u001b[0m\n\u001b[1;32m      6\u001b[0m \u001b[0mpath\u001b[0m \u001b[0;34m=\u001b[0m \u001b[0;34m\"/content/drive/MyDrive/conjunto de datos /example.txt\"\u001b[0m\u001b[0;34m\u001b[0m\u001b[0;34m\u001b[0m\u001b[0m\n\u001b[1;32m      7\u001b[0m \u001b[0;34m\u001b[0m\u001b[0m\n\u001b[0;32m----> 8\u001b[0;31m \u001b[0mrecords\u001b[0m \u001b[0;34m=\u001b[0m \u001b[0;34m[\u001b[0m\u001b[0mjson\u001b[0m\u001b[0;34m.\u001b[0m\u001b[0mloads\u001b[0m\u001b[0;34m(\u001b[0m\u001b[0mline\u001b[0m\u001b[0;34m)\u001b[0m \u001b[0;32mfor\u001b[0m \u001b[0mline\u001b[0m \u001b[0;32min\u001b[0m \u001b[0mopen\u001b[0m\u001b[0;34m(\u001b[0m\u001b[0mpath\u001b[0m\u001b[0;34m)\u001b[0m\u001b[0;34m]\u001b[0m\u001b[0;34m\u001b[0m\u001b[0;34m\u001b[0m\u001b[0m\n\u001b[0m\u001b[1;32m      9\u001b[0m \u001b[0;34m\u001b[0m\u001b[0m\n\u001b[1;32m     10\u001b[0m \u001b[0;31m#open(path).readline()\u001b[0m\u001b[0;34m\u001b[0m\u001b[0;34m\u001b[0m\u001b[0m\n",
            "\u001b[0;31mFileNotFoundError\u001b[0m: [Errno 2] No such file or directory: '/content/drive/MyDrive/conjunto de datos /example.txt'"
          ]
        }
      ]
    }
  ]
}